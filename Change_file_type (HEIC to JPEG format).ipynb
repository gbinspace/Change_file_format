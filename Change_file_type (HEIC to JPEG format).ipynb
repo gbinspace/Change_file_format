{
 "cells": [
  {
   "cell_type": "code",
   "execution_count": 1,
   "id": "7babe60e",
   "metadata": {},
   "outputs": [
    {
     "data": {
      "text/plain": [
       "'/Users/guoda/Downloads'"
      ]
     },
     "execution_count": 1,
     "metadata": {},
     "output_type": "execute_result"
    }
   ],
   "source": [
    "import os\n",
    "os.getcwd()"
   ]
  },
  {
   "cell_type": "code",
   "execution_count": 2,
   "id": "93c76ac9",
   "metadata": {},
   "outputs": [
    {
     "data": {
      "text/plain": [
       "'/Users/guoda/Downloads/iCloud Photos'"
      ]
     },
     "execution_count": 2,
     "metadata": {},
     "output_type": "execute_result"
    }
   ],
   "source": [
    "os.chdir(r\"/Users/guoda/Downloads/iCloud Photos\")\n",
    "os.getcwd()"
   ]
  },
  {
   "cell_type": "code",
   "execution_count": 3,
   "id": "fbbf8721",
   "metadata": {},
   "outputs": [],
   "source": [
    "# Change log files to txt files\n",
    "folder = os.getcwd()\n",
    "for filename in os.listdir(folder):\n",
    "    infilename = os.path.join(folder,filename)\n",
    "    if not os.path.isfile(infilename): continue\n",
    "    oldbase = os.path.splitext(filename)\n",
    "    newname = infilename.replace('HEIC', 'JPEG')\n",
    "    output = os.rename(infilename, newname)"
   ]
  },
  {
   "cell_type": "code",
   "execution_count": 1,
   "id": "77466c29",
   "metadata": {},
   "outputs": [],
   "source": [
    "# path = r\"/Users/guoda/Downloads/iCloud Photos\" \n",
    "# file_list  = os.listdir(path)\n",
    "# file_list"
   ]
  }
 ],
 "metadata": {
  "kernelspec": {
   "display_name": "Python 3 (ipykernel)",
   "language": "python",
   "name": "python3"
  },
  "language_info": {
   "codemirror_mode": {
    "name": "ipython",
    "version": 3
   },
   "file_extension": ".py",
   "mimetype": "text/x-python",
   "name": "python",
   "nbconvert_exporter": "python",
   "pygments_lexer": "ipython3",
   "version": "3.9.12"
  }
 },
 "nbformat": 4,
 "nbformat_minor": 5
}
